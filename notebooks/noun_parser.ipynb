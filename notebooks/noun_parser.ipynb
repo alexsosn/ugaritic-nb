{
  "nbformat": 4,
  "nbformat_minor": 0,
  "metadata": {
    "colab": {
      "provenance": []
    },
    "kernelspec": {
      "name": "python3",
      "display_name": "Python 3"
    },
    "language_info": {
      "name": "python"
    }
  },
  "cells": [
    {
      "cell_type": "code",
      "execution_count": null,
      "metadata": {
        "id": "IoHwI0ngs5Uz"
      },
      "outputs": [],
      "source": [
        "import re\n",
        "\n",
        "# Define regex patterns for suffixes of nouns and adjectives\n",
        "suffix_rules = [\n",
        "    # Singular\n",
        "    (r\"i$\", {\"suffix\": \"-i\", \"person\": \"1cs\", \"case\": \"nom/gen\", \"number\": \"singular\", \"POS\": \"noun/adjective\"}),\n",
        "    (r\"u-kā$\", {\"suffix\": \"-u-kā\", \"person\": \"2ms\", \"case\": \"nom\", \"number\": \"singular\", \"POS\": \"noun\"}),\n",
        "    (r\"i-kā$\", {\"suffix\": \"-i-kā\", \"person\": \"2ms\", \"case\": \"gen\", \"number\": \"singular\", \"POS\": \"noun\"}),\n",
        "    (r\"u$\", {\"suffix\": \"-u\", \"case\": \"nom\", \"number\": \"singular\", \"POS\": \"adjective\"}),\n",
        "    (r\"i$\", {\"suffix\": \"-i\", \"case\": \"gen\", \"number\": \"singular\", \"POS\": \"adjective\"}),\n",
        "    (r\"a$\", {\"suffix\": \"-a\", \"case\": \"acc\", \"number\": \"singular\", \"POS\": \"adjective\"}),\n",
        "\n",
        "    # Plural\n",
        "    (r\"ūma$\", {\"suffix\": \"-ūma\", \"case\": \"nom\", \"number\": \"plural\", \"POS\": \"adjective\"}),\n",
        "    (r\"īma$\", {\"suffix\": \"-īma\", \"case\": \"obl\", \"number\": \"plural\", \"POS\": \"adjective\"}),\n",
        "\n",
        "    # Dual\n",
        "    (r\"āma$\", {\"suffix\": \"-āma\", \"case\": \"nom\", \"number\": \"dual\", \"POS\": \"adjective\"}),\n",
        "    (r\"ēma$\", {\"suffix\": \"-ēma\", \"case\": \"obl\", \"number\": \"dual\", \"POS\": \"adjective\"}),\n",
        "]\n",
        "\n",
        "ugaritic_rules = {\n",
        "    \"adjective\": [\n",
        "        (r\"^(.*)ṭābu$\", {\"lemma\": r\"\\1ṭābu\", \"POS\": \"adjective\", \"gender\": \"masculine\", \"number\": \"singular\", \"case\": \"nom\"}),\n",
        "        (r\"^(.*)ṭābi$\", {\"lemma\": r\"\\1ṭābu\", \"POS\": \"adjective\", \"gender\": \"masculine\", \"number\": \"singular\", \"case\": \"gen\"}),\n",
        "        (r\"^(.*)ṭāba$\", {\"lemma\": r\"\\1ṭābu\", \"POS\": \"adjective\", \"gender\": \"masculine\", \"number\": \"singular\", \"case\": \"acc\"}),\n",
        "        (r\"^(.*)ṭābatu$\", {\"lemma\": r\"\\1ṭābu\", \"POS\": \"adjective\", \"gender\": \"feminine\", \"number\": \"singular\", \"case\": \"nom\"}),\n",
        "        (r\"^(.*)ṭābati$\", {\"lemma\": r\"\\1ṭābu\", \"POS\": \"adjective\", \"gender\": \"feminine\", \"number\": \"singular\", \"case\": \"gen\"}),\n",
        "        (r\"^(.*)ṭābata$\", {\"lemma\": r\"\\1ṭābu\", \"POS\": \"adjective\", \"gender\": \"feminine\", \"number\": \"singular\", \"case\": \"acc\"}),\n",
        "        (r\"^(.*)ṭābūma$\", {\"lemma\": r\"\\1ṭābu\", \"POS\": \"adjective\", \"gender\": \"masculine\", \"number\": \"plural\", \"case\": \"nom\"}),\n",
        "        (r\"^(.*)ṭābīma$\", {\"lemma\": r\"\\1ṭābu\", \"POS\": \"adjective\", \"gender\": \"masculine\", \"number\": \"plural\", \"case\": \"obl\"}),\n",
        "        (r\"^(.*)ṭābātu$\", {\"lemma\": r\"\\1ṭābu\", \"POS\": \"adjective\", \"gender\": \"feminine\", \"number\": \"plural\", \"case\": \"nom\"}),\n",
        "        (r\"^(.*)ṭābāti$\", {\"lemma\": r\"\\1ṭābu\", \"POS\": \"adjective\", \"gender\": \"feminine\", \"number\": \"plural\", \"case\": \"obl\"}),\n",
        "    ],\n",
        "    \"noun_with_suffix\": [\n",
        "        (r\"^(.*)malki$\", {\"lemma\": r\"\\1malku\", \"POS\": \"noun\", \"gender\": \"masculine\", \"number\": \"singular\", \"case\": \"nom\", \"suffix\": \"1cs\"}),\n",
        "        (r\"^(.*)malku-kā$\", {\"lemma\": r\"\\1malku\", \"POS\": \"noun\", \"gender\": \"masculine\", \"number\": \"singular\", \"case\": \"nom\", \"suffix\": \"2ms\"}),\n",
        "        (r\"^(.*)malki-ya$\", {\"lemma\": r\"\\1malku\", \"POS\": \"noun\", \"gender\": \"masculine\", \"number\": \"singular\", \"case\": \"gen\", \"suffix\": \"1cs\"}),\n",
        "        (r\"^(.*)malkat-i$\", {\"lemma\": r\"\\1malkatu\", \"POS\": \"noun\", \"gender\": \"feminine\", \"number\": \"singular\", \"case\": \"nom\", \"suffix\": \"1cs\"}),\n",
        "        (r\"^(.*)malkati-kā$\", {\"lemma\": r\"\\1malkatu\", \"POS\": \"noun\", \"gender\": \"feminine\", \"number\": \"singular\", \"case\": \"gen\", \"suffix\": \"2ms\"}),\n",
        "    ],\n",
        "}\n",
        "\n",
        "def parse_ugaritic(word):\n",
        "    \"\"\"\n",
        "    Parses an Ugaritic word by identifying its root and suffix-based grammatical features.\n",
        "\n",
        "    Parameters:\n",
        "    word (str): The Ugaritic word to parse.\n",
        "\n",
        "    Returns:\n",
        "    dict: Parsed information including root, suffix, POS, gender, number, case, and person (if applicable).\n",
        "    \"\"\"\n",
        "    for pattern, features in suffix_rules:\n",
        "        match = re.search(pattern, word)\n",
        "        if match:\n",
        "            # Extract the root by removing the suffix\n",
        "            root = re.sub(pattern, \"\", word)\n",
        "            # Add the root to the feature set\n",
        "            parsed_data = {\"root\": root}\n",
        "            parsed_data.update(features)\n",
        "            return parsed_data\n",
        "\n",
        "    return {\"error\": \"Word not recognized as grammatically correct\"}\n",
        "\n",
        "# Example Usage\n",
        "print(parse_ugaritic(\"malki\"))        # {'root': 'malk', 'suffix': '-i', 'person': '1cs', 'case': 'nom/gen', 'number': 'singular', 'POS': 'noun/adjective'}\n",
        "print(parse_ugaritic(\"ṭābu\"))         # {'root': 'ṭāb', 'suffix': '-u', 'case': 'nom', 'number': 'singular', 'POS': 'adjective'}\n",
        "print(parse_ugaritic(\"ṭābūma\"))       # {'root': 'ṭāb', 'suffix': '-ūma', 'case': 'nom', 'number': 'plural', 'POS': 'adjective'}\n",
        "print(parse_ugaritic(\"unknown\"))      # {'error': 'Word not recognized as grammatically correct'}"
      ]
    }
  ]
}