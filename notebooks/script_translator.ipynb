{
  "nbformat": 4,
  "nbformat_minor": 0,
  "metadata": {
    "colab": {
      "provenance": [],
      "collapsed_sections": [
        "7L6adUM85BXC",
        "vxv6Y0R85HAa",
        "wQReYQwL5KP0",
        "8xvpaPqB5SS5",
        "SQDsOFry5XVr",
        "B0YsDhwk5Zty"
      ],
      "toc_visible": true
    },
    "kernelspec": {
      "name": "python3",
      "display_name": "Python 3"
    },
    "language_info": {
      "name": "python"
    }
  },
  "cells": [
    {
      "cell_type": "markdown",
      "source": [
        "# Code"
      ],
      "metadata": {
        "id": "rnY-XSTj4uSn"
      }
    },
    {
      "cell_type": "markdown",
      "source": [
        "## Converting to Ugaritic and from Ugaritic"
      ],
      "metadata": {
        "id": "7L6adUM85BXC"
      }
    },
    {
      "cell_type": "code",
      "execution_count": 236,
      "metadata": {
        "id": "ga0zcNDM1kzU"
      },
      "outputs": [],
      "source": [
        "# Ugaritic script mapping in a single dictionary\n",
        "latin_to_ugaritic = {\n",
        "    \"ʾa\": \"𐎀\",\n",
        "    \"ʔa\": \"𐎀\",\n",
        "    \"'a\": \"𐎀\",\n",
        "    \"ả\": \"𐎀\",\n",
        "    \"b\": \"𐎁\",\n",
        "    \"g\": \"𐎂\",\n",
        "    \"ḫ\": \"𐎃\",\n",
        "    \"h_\": \"𐎃\",\n",
        "    \"d\": \"𐎄\",\n",
        "    \"h\": \"𐎅\",\n",
        "    \"w\": \"𐎆\",\n",
        "    \"z\": \"𐎇\",\n",
        "    \"ḥ\": \"𐎈\",\n",
        "    \"h.\": \"𐎈\",\n",
        "    \"ṭ\": \"𐎉\",\n",
        "    \"t.\": \"𐎉\",\n",
        "    \"y\": \"𐎊\",\n",
        "    \"k\": \"𐎋\",\n",
        "    \"š\": \"𐎌\",\n",
        "    \"s^\": \"𐎌\",\n",
        "    \"l\": \"𐎍\",\n",
        "    \"m\": \"𐎎\",\n",
        "    \"ḏ\": \"𐎏\",\n",
        "    \"d_\": \"𐎏\",\n",
        "    \"n\": \"𐎐\",\n",
        "    \"ẓ\": \"𐎑\",\n",
        "    \"z.\": \"𐎑\",\n",
        "    \"s\": \"𐎒\",\n",
        "    \"ʿ\": \"𐎓\",\n",
        "    \"`\": \"𐎓\",\n",
        "    \"p\": \"𐎔\",\n",
        "    \"ṣ\": \"𐎕\",\n",
        "    \"s.\": \"𐎕\",\n",
        "    \"q\": \"𐎖\",\n",
        "    \"r\": \"𐎗\",\n",
        "    \"ṯ\": \"𐎘\",\n",
        "    \"t_\": \"𐎘\",\n",
        "    \"ġ\": \"𐎙\",\n",
        "    \"g.\": \"𐎙\",\n",
        "    \"t\": \"𐎚\",\n",
        "    \"ʾi\": \"𐎛\",\n",
        "    \"ʔi\": \"𐎛\",\n",
        "    \"'i\": \"𐎛\",\n",
        "    \"ỉ\": \"𐎛\",\n",
        "    \"ʾu\": \"𐎜\",\n",
        "    \"ʔu\": \"𐎜\",\n",
        "    \"'u\": \"𐎜\",\n",
        "    \"ủ\": \"𐎜\",\n",
        "    \"s2\": \"𐎝\",\n",
        "    \"s₂\": \"𐎝\",\n",
        "    \"s'\": \"𐎝\",\n",
        "    \"s̀\": \"𐎝\",\n",
        "    \"ś\": \"𐎝\",\n",
        "\n",
        "    \"a\": \"\",\n",
        "    \"e\": \"\",\n",
        "    \"i\": \"\",\n",
        "    \"o\": \"\",\n",
        "    \"u\": \"\",\n",
        "\n",
        "    \"ā\": \"\",\n",
        "    \"ē\": \"\",\n",
        "    \"ī\": \"\",\n",
        "    \"ō\": \"\",\n",
        "    \"ū\": \"\",\n",
        "\n",
        "    \"a_\": \"\",\n",
        "    \"e_\": \"\",\n",
        "    \"i_\": \"\",\n",
        "    \"o_\": \"\",\n",
        "    \"u_\": \"\",\n",
        "    \"/\": \"\"\n",
        "}\n",
        "\n",
        "ugaritic_to_latin = {\n",
        "    '𐎀': 'ả',\n",
        "    '𐎁': 'b',\n",
        "    '𐎂': 'g',\n",
        "    '𐎃': 'ḫ',\n",
        "    '𐎄': 'd',\n",
        "    '𐎅': 'h',\n",
        "    '𐎆': 'w',\n",
        "    '𐎇': 'z',\n",
        "    '𐎈': 'ḥ',\n",
        "    '𐎉': 'ṭ',\n",
        "    '𐎊': 'y',\n",
        "    '𐎋': 'k',\n",
        "    '𐎌': 'š',\n",
        "    '𐎍': 'l',\n",
        "    '𐎎': 'm',\n",
        "    '𐎏': 'ḏ',\n",
        "    '𐎐': 'n',\n",
        "    '𐎑': 'ẓ',\n",
        "    '𐎒': 's',\n",
        "    '𐎓': 'ʿ',\n",
        "    '𐎔': 'p',\n",
        "    '𐎕': 'ṣ',\n",
        "    '𐎖': 'q',\n",
        "    '𐎗': 'r',\n",
        "    '𐎘': 'ṯ',\n",
        "    '𐎙': 'ġ',\n",
        "    '𐎚': 't',\n",
        "    '𐎛': 'ỉ',\n",
        "    '𐎜': 'ủ',\n",
        "    '𐎝': 's̀'\n",
        " }\n",
        "\n",
        "ugaritic_to_cal = {\n",
        "    '𐎀': ')',\n",
        "    '𐎁': 'b',\n",
        "    '𐎂': 'g',\n",
        "    '𐎃': 'x',\n",
        "    '𐎄': 'd',\n",
        "    '𐎅': 'h',\n",
        "    '𐎆': 'w',\n",
        "    '𐎇': 'z',\n",
        "    '𐎈': 'x',\n",
        "    '𐎉': 'T',\n",
        "    '𐎊': '(',\n",
        "    '𐎋': 'k',\n",
        "    '𐎌': ['$', '&'],\n",
        "    '𐎍': 'l',\n",
        "    '𐎎': 'm',\n",
        "    '𐎏': 'd',\n",
        "    '𐎐': 'n',\n",
        "    '𐎑': 'T',\n",
        "    '𐎒': 's',\n",
        "    '𐎓': '(',\n",
        "    '𐎔': 'p',\n",
        "    '𐎕': ['c', '('],\n",
        "    '𐎖': 'q',\n",
        "    '𐎗': 'r',\n",
        "    '𐎘': 't',\n",
        "    '𐎙': ['T', '('],\n",
        "    '𐎚': 't',\n",
        "    '𐎛': ')',\n",
        "    '𐎜': ')',\n",
        "    '𐎝': 's'\n",
        " }\n",
        "\n",
        "# According to Huehnergard, 2012\n",
        "ugaritic_to_hebrew = {\n",
        "    '𐎀': ['אַ'],\n",
        "    '𐎁': ['ב'],\n",
        "    '𐎂': ['ג'],\n",
        "    '𐎃': ['ח'],\n",
        "    '𐎄': ['ד','ז'],\n",
        "    '𐎅': ['ה'],\n",
        "    '𐎆': ['ו'],\n",
        "    '𐎇': ['ז'],\n",
        "    '𐎈': ['ח'],\n",
        "    '𐎉': ['ט'],\n",
        "    '𐎊': ['י'],\n",
        "    '𐎋': ['כ'],\n",
        "    '𐎌': ['ש'],\n",
        "    '𐎍': ['ל'],\n",
        "    '𐎎': ['מ'],\n",
        "    '𐎏': ['ז'],\n",
        "    '𐎐': ['נ'],\n",
        "    '𐎑': ['צ'],\n",
        "    '𐎒': ['ס'],\n",
        "    '𐎓': ['ע'],\n",
        "    '𐎔': ['פ'],\n",
        "    '𐎕': ['צ'],\n",
        "    '𐎖': ['ק'],\n",
        "    '𐎗': ['ר'],\n",
        "    '𐎘': ['שׁ'],\n",
        "    '𐎙': ['ע','צ'],\n",
        "    '𐎚': ['ת'],\n",
        "    '𐎛': ['א' + '\\u05B4'],\n",
        "    '𐎜': ['א' + '\\u05BB'],\n",
        "    '𐎝': ['ס']\n",
        " }\n",
        "\n",
        "def phonetic2ugaritic(text):\n",
        "    \"\"\"\n",
        "    Translates Latin-script text into Ugaritic script.\n",
        "\n",
        "    Parameters:\n",
        "        text (str): The input text in Latin script.\n",
        "\n",
        "    Returns:\n",
        "        str: The translated text in Ugaritic script.\n",
        "    \"\"\"\n",
        "    result = []\n",
        "    i = 0\n",
        "    while i < len(text):\n",
        "        match = None\n",
        "        # Check for longest matching keys first\n",
        "        for key in sorted(latin_to_ugaritic.keys(), key=len, reverse=True):\n",
        "            if text[i:i + len(key)] == key:\n",
        "                match = key\n",
        "                break\n",
        "        if match:\n",
        "            result.append(latin_to_ugaritic[match])\n",
        "            i += len(match)  # Skip processed characters\n",
        "        else:\n",
        "            result.append(text[i])  # Keep non-mappable characters as-is\n",
        "            i += 1\n",
        "    return ''.join(result)\n",
        "\n",
        "def ugaritic2phonetic(text):\n",
        "    \"\"\"\n",
        "    Translates Ugaritic-script text into Latin script.\n",
        "\n",
        "    Parameters:\n",
        "        text (str): The input text in Ugaritic script.\n",
        "\n",
        "    Returns:\n",
        "        str: The translated text in Latin script.\n",
        "    \"\"\"\n",
        "    result = []\n",
        "    for char in text:\n",
        "        if char in ugaritic_to_latin:\n",
        "            result.append(ugaritic_to_latin[char])\n",
        "        else:\n",
        "            result.append(char)  # Keep non-mappable characters as-is\n",
        "    return ''.join(result)\n",
        "\n",
        "\n",
        "def ugaritic2hebrew(text):\n",
        "    \"\"\"\n",
        "    Translates Ugaritic-script text into Hebrew.\n",
        "\n",
        "    Parameters:\n",
        "        text (str): The input text in Ugaritic script.\n",
        "\n",
        "    Returns:\n",
        "        list: A flat list of all possible Hebrew translations.\n",
        "    \"\"\"\n",
        "\n",
        "    if not text:\n",
        "        return [\"\"]\n",
        "\n",
        "    results = []\n",
        "    char = text[0]\n",
        "\n",
        "    if char in ugaritic_to_hebrew:\n",
        "        for translation in ugaritic_to_hebrew[char]:\n",
        "            for rest in ugaritic2hebrew(text[1:]):\n",
        "                results.append(translation + rest)\n",
        "    else:\n",
        "        for rest in ugaritic2hebrew(text[1:]):\n",
        "          results.append(char + rest)\n",
        "\n",
        "    return results\n",
        "\n",
        "\n",
        "def ugaritic2cal(text):\n",
        "    \"\"\"\n",
        "    Translates Ugaritic-script text into CAL search notation.\n",
        "\n",
        "    Parameters:\n",
        "        text (str): The input text in Ugaritic script.\n",
        "\n",
        "    Returns:\n",
        "        list: A flat list of all possible CAL translations.\n",
        "    \"\"\"\n",
        "\n",
        "    if not text:\n",
        "        return [\"\"]\n",
        "\n",
        "    results = []\n",
        "    char = text[0]\n",
        "\n",
        "    if char in ugaritic_to_cal:\n",
        "        for translation in ugaritic_to_cal[char]:\n",
        "            for rest in ugaritic2cal(text[1:]):\n",
        "                results.append(translation + rest)\n",
        "    else:\n",
        "        for rest in ugaritic2cal(text[1:]):\n",
        "          results.append(char + rest)\n",
        "\n",
        "    return results"
      ]
    },
    {
      "cell_type": "markdown",
      "source": [
        "## Chaining Convertors"
      ],
      "metadata": {
        "id": "vxv6Y0R85HAa"
      }
    },
    {
      "cell_type": "code",
      "source": [
        "def chain(f, g):\n",
        "    return lambda x : g(f(x)) if isinstance(f(x), str) else [g(m) for m in f(x)]\n",
        "\n",
        "def print_transcr(orig, converter):\n",
        "    print(f\"{orig}  ->  {converter(orig)}\")"
      ],
      "metadata": {
        "id": "Iu5tHsOp2srE"
      },
      "execution_count": 244,
      "outputs": []
    },
    {
      "cell_type": "markdown",
      "source": [
        "## CAL Converters"
      ],
      "metadata": {
        "id": "wQReYQwL5KP0"
      }
    },
    {
      "cell_type": "code",
      "source": [
        "# Extracted from view-source:https://cal.huc.edu/searching/fullbrowser.html\n",
        "cal_table = \"\"\"\n",
        "<table border=\"2\" fill=\"2\"  width=\"90%\">\n",
        "\n",
        "\t<tr>\n",
        "\t\t<td align=\"center\">CAL Code</td>\n",
        "\t\t<td align=\"center\">)</td>\n",
        "\t\t<td align=\"center\">b</td>\n",
        "\t\t<td align=\"center\">g</td>\n",
        "\t\t<td align=\"center\">d</td>\n",
        "\t\t<td align=\"center\">h</td>\n",
        "\t\t<td align=\"center\">w</td>\n",
        "\t\t<td align=\"center\">z</td>\n",
        "\t\t<td align=\"center\">x</td>\n",
        "\t\t<td align=\"center\">T</td>\n",
        "\t\t<td align=\"center\">y</td>\n",
        "\t\t<td align=\"center\">k</td>\n",
        "\t\t<td align=\"center\">l</td>\n",
        "\t\t<td align=\"center\">m</td>\n",
        "\t\t<td align=\"center\">n</td>\n",
        "\t\t<td align=\"center\">s</td>\n",
        "\t\t<td align=\"center\">(</td>\n",
        "\t\t<td align=\"center\">p</td>\n",
        "\t\t<td align=\"center\">P</td>\n",
        "\t\t<td align=\"center\">c</td>\n",
        "\t\t<td align=\"center\">q</td>\n",
        "\t\t<td align=\"center\">r</td>\n",
        "\t\t<td align=\"center\">$</td>\n",
        "\t\t<td align=\"center\">&</td>\n",
        "\t\t<td align=\"center\">t</td>\n",
        "\t\t<td align=\"center\">@</td>\n",
        "\t</tr>\n",
        "\t<tr>\n",
        "\t\t<td align=\"center\">Unicode</td>\n",
        "\t\t<td align=\"center\">ˀ</td>\n",
        "\t\t<td align=\"center\">b</td>\n",
        "\t\t<td align=\"center\">g</td>\n",
        "\t\t<td align=\"center\">d</td>\n",
        "\t\t<td align=\"center\">h</td>\n",
        "\t\t<td align=\"center\">w</td>\n",
        "\t\t<td align=\"center\">z</td>\n",
        "\t\t<td align=\"center\">ḥ</td>\n",
        "\t\t<td align=\"center\">ṭ</td>\n",
        "\t\t<td align=\"center\">y</td>\n",
        "\t\t<td align=\"center\">k</td>\n",
        "\t\t<td align=\"center\">l</td>\n",
        "\t\t<td align=\"center\">m</td>\n",
        "\t\t<td align=\"center\">n</td>\n",
        "\t\t<td align=\"center\">s</td>\n",
        "\t\t<td align=\"center\">ˁ</td>\n",
        "\t\t<td align=\"center\">p</td>\n",
        "\t\t<td align=\"center\">ṗ</td>\n",
        "\t\t<td align=\"center\">ṣ</td>\n",
        "\t\t<td align=\"center\">q</td>\n",
        "\t\t<td align=\"center\">r</td>\n",
        "\t\t<td align=\"center\">š</td>\n",
        "\t\t<td align=\"center\">ś</td>\n",
        "\t\t<td align=\"center\">t</td>\n",
        "\t\t<td align=\"center\">**</td>\n",
        "\t</tr>\n",
        "\t<tr>\n",
        "\t\t<td align=\"center\">Hebrew</td>\n",
        "\t\t<td align=\"center\">א</td>\n",
        "\t\t<td align=\"center\">ב</td>\n",
        "\t\t<td align=\"center\">ג</td>\n",
        "\t\t<td align=\"center\">ד</td>\n",
        "\t\t<td align=\"center\">ה</td>\n",
        "\t\t<td align=\"center\">ו</td>\n",
        "\t\t<td align=\"center\">ז</td>\n",
        "\t\t<td align=\"center\">ח</td>\n",
        "\t\t<td align=\"center\">ט</td>\n",
        "\t\t<td align=\"center\">י</td>\n",
        "\t\t<td align=\"center\">כ</td>\n",
        "\t\t<td align=\"center\">ל</td>\n",
        "\t\t<td align=\"center\">מ</td>\n",
        "\t\t<td align=\"center\">נ</td>\n",
        "\t\t<td align=\"center\">ס</td>\n",
        "\t\t<td align=\"center\">ע</td>\n",
        "\t\t<td align=\"center\">פ</td>\n",
        "\t\t<td align=\"center\">&nbsp;</td>\n",
        "\t\t<td align=\"center\">צ</td>\n",
        "\t\t<td align=\"center\">ק</td>\n",
        "\t\t<td align=\"center\">ר</td>\n",
        "\t\t<td align=\"center\">ש</td>\n",
        "\t\t<td align=\"center\">שׂ</td>\n",
        "\t\t<td align=\"center\">ת</td>\n",
        "\t\t<td align=\"center\">**</td>\n",
        "\t</tr>\n",
        "\t<tr>\n",
        "\t\t<td align=\"center\">Syriac</td>\n",
        "\t\t<td align=\"center\" class=\"syr\">ܐ</td>\n",
        "\t\t<td align=\"right\" class=\"syr\">ܒ</td>\n",
        "\t\t<td align=\"right\" class=\"syr\">ܓ</td>\n",
        "\t\t<td align=\"right\" class=\"syr\">ܕ</td>\n",
        "\t\t<td align=\"right\" class=\"syr\">ܗ</td>\n",
        "\t\t<td align=\"right\" class=\"syr\">ܘ</td>\n",
        "\t\t<td align=\"right\" class=\"syr\">ܙ</td>\n",
        "\t\t<td align=\"right\" class=\"syr\">ܚ</td>\n",
        "\t\t<td align=\"right\" class=\"syr\">ܛ</td>\n",
        "\t\t<td align=\"right\" class=\"syr\">ܝ</td>\n",
        "\t\t<td align=\"right\" class=\"syr\">ܟ</td>\n",
        "\t\t<td align=\"right\" class=\"syr\">ܠ</td>\n",
        "\t\t<td align=\"right\" class=\"syr\">ܡ</td>\n",
        "\t\t<td align=\"right\" class=\"syr\">ܢ</td>\n",
        "\t\t<td align=\"right\" class=\"syr\">ܣ</td>\n",
        "\t\t<td align=\"right\" class=\"syr\">ܥ</td>\n",
        "\t\t<td align=\"right\" class=\"syr\">ܦ</td>\n",
        "\t\t<td align=\"right\" class=\"syr\">ܧ</td>\n",
        "\t\t<td align=\"right\" class=\"syr\">ܨ</td>\n",
        "\t\t<td align=\"right\" class=\"syr\">ܩ</td>\n",
        "\t\t<td align=\"right\" class=\"syr\">ܪ</td>\n",
        "\t\t<td align=\"center\" class=\"syr\">ܫ</td>\n",
        "\t\t<td align=\"right\" class=\"syr\">&nbsp; </td>\n",
        "\t\t<td align=\"center\" class=\"syr\">ܬ</td>\n",
        "\t\t<td align=\"center\" >**</td>\n",
        "\t</tr>\n",
        "</table>\"\"\""
      ],
      "metadata": {
        "id": "coRGkWL4f3ad"
      },
      "execution_count": 172,
      "outputs": []
    },
    {
      "cell_type": "code",
      "source": [
        "# prompt: convert cal_table to a dataframe\n",
        "\n",
        "import pandas as pd\n",
        "from bs4 import BeautifulSoup\n",
        "\n",
        "# Parse the HTML table using BeautifulSoup\n",
        "soup = BeautifulSoup(cal_table, 'html.parser')\n",
        "table = soup.find('table')\n",
        "\n",
        "# Extract data from the table\n",
        "data = []\n",
        "rows = table.find_all('tr')\n",
        "for row in rows:\n",
        "    cols = row.find_all('td')\n",
        "    cols = [ele.text.strip() for ele in cols]\n",
        "    data.append([ele for ele in cols if ele])  # Get rid of empty values\n",
        "\n",
        "# Create a Pandas DataFrame\n",
        "df = pd.DataFrame(data[1:], columns=data[0]).transpose()\n",
        "df.columns = df.iloc[0]\n",
        "df = df.iloc[1:]\n",
        "df.head()"
      ],
      "metadata": {
        "colab": {
          "base_uri": "https://localhost:8080/",
          "height": 206
        },
        "id": "r3ixCSvFiEHb",
        "outputId": "01bc9235-8c41-484c-cc48-587b6eb09c5b"
      },
      "execution_count": 173,
      "outputs": [
        {
          "output_type": "execute_result",
          "data": {
            "text/plain": [
              "CAL Code Unicode Hebrew Syriac\n",
              ")              ˀ      א      ܐ\n",
              "b              b      ב      ܒ\n",
              "g              g      ג      ܓ\n",
              "d              d      ד      ܕ\n",
              "h              h      ה      ܗ"
            ],
            "text/html": [
              "\n",
              "  <div id=\"df-e170f13e-f30c-4447-b204-9014fb237cb3\" class=\"colab-df-container\">\n",
              "    <div>\n",
              "<style scoped>\n",
              "    .dataframe tbody tr th:only-of-type {\n",
              "        vertical-align: middle;\n",
              "    }\n",
              "\n",
              "    .dataframe tbody tr th {\n",
              "        vertical-align: top;\n",
              "    }\n",
              "\n",
              "    .dataframe thead th {\n",
              "        text-align: right;\n",
              "    }\n",
              "</style>\n",
              "<table border=\"1\" class=\"dataframe\">\n",
              "  <thead>\n",
              "    <tr style=\"text-align: right;\">\n",
              "      <th>CAL Code</th>\n",
              "      <th>Unicode</th>\n",
              "      <th>Hebrew</th>\n",
              "      <th>Syriac</th>\n",
              "    </tr>\n",
              "  </thead>\n",
              "  <tbody>\n",
              "    <tr>\n",
              "      <th>)</th>\n",
              "      <td>ˀ</td>\n",
              "      <td>א</td>\n",
              "      <td>ܐ</td>\n",
              "    </tr>\n",
              "    <tr>\n",
              "      <th>b</th>\n",
              "      <td>b</td>\n",
              "      <td>ב</td>\n",
              "      <td>ܒ</td>\n",
              "    </tr>\n",
              "    <tr>\n",
              "      <th>g</th>\n",
              "      <td>g</td>\n",
              "      <td>ג</td>\n",
              "      <td>ܓ</td>\n",
              "    </tr>\n",
              "    <tr>\n",
              "      <th>d</th>\n",
              "      <td>d</td>\n",
              "      <td>ד</td>\n",
              "      <td>ܕ</td>\n",
              "    </tr>\n",
              "    <tr>\n",
              "      <th>h</th>\n",
              "      <td>h</td>\n",
              "      <td>ה</td>\n",
              "      <td>ܗ</td>\n",
              "    </tr>\n",
              "  </tbody>\n",
              "</table>\n",
              "</div>\n",
              "    <div class=\"colab-df-buttons\">\n",
              "\n",
              "  <div class=\"colab-df-container\">\n",
              "    <button class=\"colab-df-convert\" onclick=\"convertToInteractive('df-e170f13e-f30c-4447-b204-9014fb237cb3')\"\n",
              "            title=\"Convert this dataframe to an interactive table.\"\n",
              "            style=\"display:none;\">\n",
              "\n",
              "  <svg xmlns=\"http://www.w3.org/2000/svg\" height=\"24px\" viewBox=\"0 -960 960 960\">\n",
              "    <path d=\"M120-120v-720h720v720H120Zm60-500h600v-160H180v160Zm220 220h160v-160H400v160Zm0 220h160v-160H400v160ZM180-400h160v-160H180v160Zm440 0h160v-160H620v160ZM180-180h160v-160H180v160Zm440 0h160v-160H620v160Z\"/>\n",
              "  </svg>\n",
              "    </button>\n",
              "\n",
              "  <style>\n",
              "    .colab-df-container {\n",
              "      display:flex;\n",
              "      gap: 12px;\n",
              "    }\n",
              "\n",
              "    .colab-df-convert {\n",
              "      background-color: #E8F0FE;\n",
              "      border: none;\n",
              "      border-radius: 50%;\n",
              "      cursor: pointer;\n",
              "      display: none;\n",
              "      fill: #1967D2;\n",
              "      height: 32px;\n",
              "      padding: 0 0 0 0;\n",
              "      width: 32px;\n",
              "    }\n",
              "\n",
              "    .colab-df-convert:hover {\n",
              "      background-color: #E2EBFA;\n",
              "      box-shadow: 0px 1px 2px rgba(60, 64, 67, 0.3), 0px 1px 3px 1px rgba(60, 64, 67, 0.15);\n",
              "      fill: #174EA6;\n",
              "    }\n",
              "\n",
              "    .colab-df-buttons div {\n",
              "      margin-bottom: 4px;\n",
              "    }\n",
              "\n",
              "    [theme=dark] .colab-df-convert {\n",
              "      background-color: #3B4455;\n",
              "      fill: #D2E3FC;\n",
              "    }\n",
              "\n",
              "    [theme=dark] .colab-df-convert:hover {\n",
              "      background-color: #434B5C;\n",
              "      box-shadow: 0px 1px 3px 1px rgba(0, 0, 0, 0.15);\n",
              "      filter: drop-shadow(0px 1px 2px rgba(0, 0, 0, 0.3));\n",
              "      fill: #FFFFFF;\n",
              "    }\n",
              "  </style>\n",
              "\n",
              "    <script>\n",
              "      const buttonEl =\n",
              "        document.querySelector('#df-e170f13e-f30c-4447-b204-9014fb237cb3 button.colab-df-convert');\n",
              "      buttonEl.style.display =\n",
              "        google.colab.kernel.accessAllowed ? 'block' : 'none';\n",
              "\n",
              "      async function convertToInteractive(key) {\n",
              "        const element = document.querySelector('#df-e170f13e-f30c-4447-b204-9014fb237cb3');\n",
              "        const dataTable =\n",
              "          await google.colab.kernel.invokeFunction('convertToInteractive',\n",
              "                                                    [key], {});\n",
              "        if (!dataTable) return;\n",
              "\n",
              "        const docLinkHtml = 'Like what you see? Visit the ' +\n",
              "          '<a target=\"_blank\" href=https://colab.research.google.com/notebooks/data_table.ipynb>data table notebook</a>'\n",
              "          + ' to learn more about interactive tables.';\n",
              "        element.innerHTML = '';\n",
              "        dataTable['output_type'] = 'display_data';\n",
              "        await google.colab.output.renderOutput(dataTable, element);\n",
              "        const docLink = document.createElement('div');\n",
              "        docLink.innerHTML = docLinkHtml;\n",
              "        element.appendChild(docLink);\n",
              "      }\n",
              "    </script>\n",
              "  </div>\n",
              "\n",
              "\n",
              "<div id=\"df-f04d6c29-0b61-4cd4-baa2-5c2011789ffa\">\n",
              "  <button class=\"colab-df-quickchart\" onclick=\"quickchart('df-f04d6c29-0b61-4cd4-baa2-5c2011789ffa')\"\n",
              "            title=\"Suggest charts\"\n",
              "            style=\"display:none;\">\n",
              "\n",
              "<svg xmlns=\"http://www.w3.org/2000/svg\" height=\"24px\"viewBox=\"0 0 24 24\"\n",
              "     width=\"24px\">\n",
              "    <g>\n",
              "        <path d=\"M19 3H5c-1.1 0-2 .9-2 2v14c0 1.1.9 2 2 2h14c1.1 0 2-.9 2-2V5c0-1.1-.9-2-2-2zM9 17H7v-7h2v7zm4 0h-2V7h2v10zm4 0h-2v-4h2v4z\"/>\n",
              "    </g>\n",
              "</svg>\n",
              "  </button>\n",
              "\n",
              "<style>\n",
              "  .colab-df-quickchart {\n",
              "      --bg-color: #E8F0FE;\n",
              "      --fill-color: #1967D2;\n",
              "      --hover-bg-color: #E2EBFA;\n",
              "      --hover-fill-color: #174EA6;\n",
              "      --disabled-fill-color: #AAA;\n",
              "      --disabled-bg-color: #DDD;\n",
              "  }\n",
              "\n",
              "  [theme=dark] .colab-df-quickchart {\n",
              "      --bg-color: #3B4455;\n",
              "      --fill-color: #D2E3FC;\n",
              "      --hover-bg-color: #434B5C;\n",
              "      --hover-fill-color: #FFFFFF;\n",
              "      --disabled-bg-color: #3B4455;\n",
              "      --disabled-fill-color: #666;\n",
              "  }\n",
              "\n",
              "  .colab-df-quickchart {\n",
              "    background-color: var(--bg-color);\n",
              "    border: none;\n",
              "    border-radius: 50%;\n",
              "    cursor: pointer;\n",
              "    display: none;\n",
              "    fill: var(--fill-color);\n",
              "    height: 32px;\n",
              "    padding: 0;\n",
              "    width: 32px;\n",
              "  }\n",
              "\n",
              "  .colab-df-quickchart:hover {\n",
              "    background-color: var(--hover-bg-color);\n",
              "    box-shadow: 0 1px 2px rgba(60, 64, 67, 0.3), 0 1px 3px 1px rgba(60, 64, 67, 0.15);\n",
              "    fill: var(--button-hover-fill-color);\n",
              "  }\n",
              "\n",
              "  .colab-df-quickchart-complete:disabled,\n",
              "  .colab-df-quickchart-complete:disabled:hover {\n",
              "    background-color: var(--disabled-bg-color);\n",
              "    fill: var(--disabled-fill-color);\n",
              "    box-shadow: none;\n",
              "  }\n",
              "\n",
              "  .colab-df-spinner {\n",
              "    border: 2px solid var(--fill-color);\n",
              "    border-color: transparent;\n",
              "    border-bottom-color: var(--fill-color);\n",
              "    animation:\n",
              "      spin 1s steps(1) infinite;\n",
              "  }\n",
              "\n",
              "  @keyframes spin {\n",
              "    0% {\n",
              "      border-color: transparent;\n",
              "      border-bottom-color: var(--fill-color);\n",
              "      border-left-color: var(--fill-color);\n",
              "    }\n",
              "    20% {\n",
              "      border-color: transparent;\n",
              "      border-left-color: var(--fill-color);\n",
              "      border-top-color: var(--fill-color);\n",
              "    }\n",
              "    30% {\n",
              "      border-color: transparent;\n",
              "      border-left-color: var(--fill-color);\n",
              "      border-top-color: var(--fill-color);\n",
              "      border-right-color: var(--fill-color);\n",
              "    }\n",
              "    40% {\n",
              "      border-color: transparent;\n",
              "      border-right-color: var(--fill-color);\n",
              "      border-top-color: var(--fill-color);\n",
              "    }\n",
              "    60% {\n",
              "      border-color: transparent;\n",
              "      border-right-color: var(--fill-color);\n",
              "    }\n",
              "    80% {\n",
              "      border-color: transparent;\n",
              "      border-right-color: var(--fill-color);\n",
              "      border-bottom-color: var(--fill-color);\n",
              "    }\n",
              "    90% {\n",
              "      border-color: transparent;\n",
              "      border-bottom-color: var(--fill-color);\n",
              "    }\n",
              "  }\n",
              "</style>\n",
              "\n",
              "  <script>\n",
              "    async function quickchart(key) {\n",
              "      const quickchartButtonEl =\n",
              "        document.querySelector('#' + key + ' button');\n",
              "      quickchartButtonEl.disabled = true;  // To prevent multiple clicks.\n",
              "      quickchartButtonEl.classList.add('colab-df-spinner');\n",
              "      try {\n",
              "        const charts = await google.colab.kernel.invokeFunction(\n",
              "            'suggestCharts', [key], {});\n",
              "      } catch (error) {\n",
              "        console.error('Error during call to suggestCharts:', error);\n",
              "      }\n",
              "      quickchartButtonEl.classList.remove('colab-df-spinner');\n",
              "      quickchartButtonEl.classList.add('colab-df-quickchart-complete');\n",
              "    }\n",
              "    (() => {\n",
              "      let quickchartButtonEl =\n",
              "        document.querySelector('#df-f04d6c29-0b61-4cd4-baa2-5c2011789ffa button');\n",
              "      quickchartButtonEl.style.display =\n",
              "        google.colab.kernel.accessAllowed ? 'block' : 'none';\n",
              "    })();\n",
              "  </script>\n",
              "</div>\n",
              "\n",
              "    </div>\n",
              "  </div>\n"
            ],
            "application/vnd.google.colaboratory.intrinsic+json": {
              "type": "dataframe",
              "variable_name": "df",
              "summary": "{\n  \"name\": \"df\",\n  \"rows\": 25,\n  \"fields\": [\n    {\n      \"column\": \"Unicode\",\n      \"properties\": {\n        \"dtype\": \"string\",\n        \"num_unique_values\": 25,\n        \"samples\": [\n          \"\\u1e6d\",\n          \"p\",\n          \"\\u02c0\"\n        ],\n        \"semantic_type\": \"\",\n        \"description\": \"\"\n      }\n    },\n    {\n      \"column\": \"Hebrew\",\n      \"properties\": {\n        \"dtype\": \"string\",\n        \"num_unique_values\": 24,\n        \"samples\": [\n          \"\\u05d8\",\n          \"\\u05e4\",\n          \"\\u05d0\"\n        ],\n        \"semantic_type\": \"\",\n        \"description\": \"\"\n      }\n    },\n    {\n      \"column\": \"Syriac\",\n      \"properties\": {\n        \"dtype\": \"string\",\n        \"num_unique_values\": 24,\n        \"samples\": [\n          \"\\u071b\",\n          \"\\u0726\",\n          \"\\u0710\"\n        ],\n        \"semantic_type\": \"\",\n        \"description\": \"\"\n      }\n    }\n  ]\n}"
            }
          },
          "metadata": {},
          "execution_count": 173
        }
      ]
    },
    {
      "cell_type": "code",
      "source": [
        "# prompt: Create converter functions from CAL to Unicode, Hebrew, Syriac.\n",
        "\n",
        "def cal2unicode(cal_text):\n",
        "    \"\"\"Converts CAL text to Unicode.\"\"\"\n",
        "    unicode_mapping = dict(zip(df.index, df['Unicode']))\n",
        "    result = ''\n",
        "    for char in cal_text:\n",
        "        result += unicode_mapping.get(char, char) # If char not found, keep original\n",
        "    return result\n",
        "\n",
        "def cal2hebrew(cal_text):\n",
        "    \"\"\"Converts CAL text to Hebrew.\"\"\"\n",
        "    hebrew_mapping = dict(zip(df.index, df['Hebrew']))\n",
        "    result = ''\n",
        "    for char in cal_text:\n",
        "        result += hebrew_mapping.get(char, char) # If char not found, keep original\n",
        "    return result\n",
        "\n",
        "def cal2syriac(cal_text):\n",
        "    \"\"\"Converts CAL text to Syriac.\"\"\"\n",
        "    syriac_mapping = dict(zip(df.index, df['Syriac']))\n",
        "    result = ''\n",
        "    for char in cal_text:\n",
        "        result += syriac_mapping.get(char, char)  # If char not found, keep original\n",
        "    return result"
      ],
      "metadata": {
        "id": "xgbakeriiI4u"
      },
      "execution_count": 219,
      "outputs": []
    },
    {
      "cell_type": "code",
      "source": [
        "# prompt: implement hebrew2cal() and unicode2cal() functions\n",
        "\n",
        "def hebrew2cal(hebrew_text):\n",
        "    \"\"\"Converts Hebrew text to CAL code.\"\"\"\n",
        "    cal_mapping = dict(zip(df['Hebrew'], df.index))\n",
        "    result = ''\n",
        "    for char in hebrew_text:\n",
        "        result += cal_mapping.get(char, char) # If char not found, keep original\n",
        "    return result\n",
        "\n",
        "def unicode2cal(unicode_text):\n",
        "    \"\"\"Converts Unicode text to CAL code.\"\"\"\n",
        "    cal_mapping = dict(zip(df['Unicode'], df.index))\n",
        "    result = ''\n",
        "    for char in unicode_text:\n",
        "        result += cal_mapping.get(char, char) # If char not found, keep original\n",
        "    return result"
      ],
      "metadata": {
        "id": "-1HzQZ16jUuc"
      },
      "execution_count": 217,
      "outputs": []
    },
    {
      "cell_type": "markdown",
      "source": [
        "## CAL Search"
      ],
      "metadata": {
        "id": "8xvpaPqB5SS5"
      }
    },
    {
      "cell_type": "code",
      "source": [
        "# prompt: Use this URL as an example: \"https://cal.huc.edu/browseSKEYheaders.php?tools=on&first3=%29%24kr\". This requests unicode 'ˀškr' == CAL ')$kr', note the first3 parameter.\n",
        "# Write a function that renders an iframe inside the jupyter notebook showing the result for an input Aramaic word (use unicode2cal()) returned by a request to \"https://cal.huc.edu/browseSKEYheaders.php\"\n",
        "\n",
        "import requests\n",
        "from IPython.display import IFrame\n",
        "\n",
        "def display_cal(aramaic_word):\n",
        "  \"\"\"\n",
        "  Displays an iframe showing the result of a request to the CAL website for a given Aramaic word.\n",
        "\n",
        "  Args:\n",
        "    aramaic_word: The Aramaic word to search for (Unicode).\n",
        "  \"\"\"\n",
        "  cal_code = unicode2cal(aramaic_word)\n",
        "  url = f\"https://cal.huc.edu/browseSKEYheaders.php?tools=on&first3={requests.utils.quote(cal_code)}\"\n",
        "  iframe = IFrame(url, width=800, height=600)\n",
        "  display(iframe)"
      ],
      "metadata": {
        "id": "CqpI-Fd6o6cb"
      },
      "execution_count": 215,
      "outputs": []
    },
    {
      "cell_type": "markdown",
      "source": [
        "## Logos Search"
      ],
      "metadata": {
        "id": "SQDsOFry5XVr"
      }
    },
    {
      "cell_type": "code",
      "source": [
        "def generate_logos_links(hebrew_word):\n",
        "  \"\"\"Generates a hyperlink to the Logos Bible Software search for a Hebrew word.\n",
        "\n",
        "  Args:\n",
        "    hebrew_word: The Hebrew word to search for.\n",
        "\n",
        "  Returns:\n",
        "    HTML strings representing the hyperlinks.\n",
        "  \"\"\"\n",
        "\n",
        "  # URL encode the Hebrew word\n",
        "  encoded_word = requests.utils.quote(hebrew_word)\n",
        "  # Construct the Logos URL\n",
        "  base_url = \"https://app.logos.com/books/\"\n",
        "  lex_components = {\n",
        "      'David J.A. Clines DCH': 'LLS%3A46.30.12',\n",
        "      'HALOT': ['LLS%3ADICHEBREW', 'he'],\n",
        "      'TDOT': ['LLS%3ATDOT', 'he'],\n",
        "      'BDB': ['LLS%3A46.30.16', 'he'],\n",
        "      'Jastrow’s Dictionary of the Targumim, the Talmud Babli and Yerushalmi, and the Midrashic Literature': ['LLS%3AARAMAICLEX', 'arc'],\n",
        "      'CAL': ['LLS%3A46.30.28', 'arc']\n",
        "      }\n",
        "  res = []\n",
        "  for key, lex_component in lex_components.items():\n",
        "    url = f\"{base_url}{lex_component[0]}/headwords/{encoded_word}?headwordLanguage={lex_component[1]}&layout=one\"\n",
        "    # Create the HTML hyperlink\n",
        "    hyperlink = f'<p><a href=\"{url}\" target=\"_blank\">{key}: {hebrew_word}</a></p>'\n",
        "    res.append(hyperlink)\n",
        "  return \"\".join(res)"
      ],
      "metadata": {
        "id": "9SkFX8pkp2hU"
      },
      "execution_count": 212,
      "outputs": []
    },
    {
      "cell_type": "markdown",
      "source": [
        "## Wiktionary Search"
      ],
      "metadata": {
        "id": "B0YsDhwk5Zty"
      }
    },
    {
      "cell_type": "code",
      "source": [
        "def search_wiktionary(word):\n",
        "  \"\"\"Searches Wiktionary for a word and displays the result in an iframe.\n",
        "\n",
        "  Args:\n",
        "    word: The word to search for.\n",
        "  \"\"\"\n",
        "  url = f\"https://en.wiktionary.org/wiki/{word}\"\n",
        "  iframe = IFrame(url, width=800, height=600)\n",
        "  display(iframe)"
      ],
      "metadata": {
        "id": "5q7-0Ifl1KYI"
      },
      "execution_count": 227,
      "outputs": []
    },
    {
      "cell_type": "markdown",
      "source": [
        "# Examles"
      ],
      "metadata": {
        "id": "1QWjfH5y5dZq"
      }
    },
    {
      "cell_type": "markdown",
      "source": [
        "## Converting to and from Ugaritic"
      ],
      "metadata": {
        "id": "Gxc7l1DM5gDl"
      }
    },
    {
      "cell_type": "code",
      "source": [
        "print_transcr(\"𐎛𐎁\", ugaritic2phonetic)\n",
        "print_transcr(\"𐎛𐎁\", ugaritic2hebrew)\n",
        "print_transcr(\"𐎝𐎝𐎆\", ugaritic2phonetic)\n",
        "print_transcr(\"𐎝𐎝𐎆\", ugaritic2hebrew)\n",
        "print_transcr(\"𐎜𐎘𐎔𐎚\", ugaritic2hebrew)\n",
        "print_transcr(\"𐎜𐎘𐎔𐎚\", ugaritic2phonetic)\n",
        "print_transcr(\"ủṯpt\", phonetic2ugaritic)\n",
        "print_transcr(\"/ʾuṯpatu/\", phonetic2ugaritic)\n",
        "print_transcr(\"'ut_patu\", phonetic2ugaritic)\n",
        "print_transcr(\"'ut_patu\", chain(phonetic2ugaritic, ugaritic2hebrew))\n",
        "print_transcr(\"𐎄𐎈𐎍\", ugaritic2phonetic)\n",
        "print_transcr(\"𐎄𐎈𐎍\", ugaritic2hebrew)\n",
        "print_transcr(\"𐎄𐎄𐎎𐎌\", ugaritic2hebrew)\n",
        "print_transcr(\"𐎄𐎄𐎎𐎌\", ugaritic2phonetic)"
      ],
      "metadata": {
        "colab": {
          "base_uri": "https://localhost:8080/"
        },
        "id": "MF6cG8W42BBi",
        "outputId": "a41a3fae-3d8d-4556-9b6c-209eb1e4af95"
      },
      "execution_count": 223,
      "outputs": [
        {
          "output_type": "stream",
          "name": "stdout",
          "text": [
            "𐎛𐎁  ->  ỉb\n",
            "𐎛𐎁  ->  ['אִב']\n",
            "𐎝𐎝𐎆  ->  s̀s̀w\n",
            "𐎝𐎝𐎆  ->  ['ססו']\n",
            "𐎜𐎘𐎔𐎚  ->  ['אֻשׁפת']\n",
            "𐎜𐎘𐎔𐎚  ->  ủṯpt\n",
            "ủṯpt  ->  𐎜𐎘𐎔𐎚\n",
            "/ʾuṯpatu/  ->  𐎜𐎘𐎔𐎚\n",
            "'ut_patu  ->  𐎜𐎘𐎔𐎚\n",
            "'ut_patu  ->  ['אֻשׁפת']\n",
            "𐎄𐎈𐎍  ->  dḥl\n",
            "𐎄𐎈𐎍  ->  ['דחל', 'זחל']\n",
            "𐎄𐎄𐎎𐎌  ->  ['דדמש', 'דזמש', 'זדמש', 'זזמש']\n",
            "𐎄𐎄𐎎𐎌  ->  ddmš\n"
          ]
        }
      ]
    },
    {
      "cell_type": "markdown",
      "source": [
        "## Converting for CAL"
      ],
      "metadata": {
        "id": "OvTJfR8A5lsL"
      }
    },
    {
      "cell_type": "code",
      "source": [
        "# Conversion from CAL notation\n",
        "print_transcr(')bg', cal2unicode)\n",
        "print_transcr(')bg', cal2hebrew)\n",
        "print_transcr(')bg', cal2syriac)\n",
        "\n",
        "# Conversion to CAL notation\n",
        "print_transcr('אבג', hebrew2cal)\n",
        "print_transcr('ˀbg', unicode2cal)"
      ],
      "metadata": {
        "colab": {
          "base_uri": "https://localhost:8080/"
        },
        "id": "pkHRPPLj1m7I",
        "outputId": "2543415c-c54e-40b1-92c9-2e0d311aa508"
      },
      "execution_count": 240,
      "outputs": [
        {
          "output_type": "stream",
          "name": "stdout",
          "text": [
            ")bg  ->  ˀbg\n",
            ")bg  ->  אבג\n",
            ")bg  ->  ܐܒܓ\n",
            "אבג  ->  )bg\n",
            "ˀbg  ->  )bg\n"
          ]
        }
      ]
    },
    {
      "cell_type": "code",
      "source": [
        "# Example chaining on the conversions\n",
        "print_transcr(\"𐎀𐎌𐎋𐎗𐎗\", chain(ugaritic2cal, cal2syriac))"
      ],
      "metadata": {
        "colab": {
          "base_uri": "https://localhost:8080/"
        },
        "id": "MfrH93UdkgKX",
        "outputId": "e79f4985-5573-4f89-912a-7ef98bf6539f"
      },
      "execution_count": 249,
      "outputs": [
        {
          "output_type": "stream",
          "name": "stdout",
          "text": [
            "𐎀𐎌𐎋𐎗𐎗  ->  ['ܐܫܟܪܪ', 'ܐܬܟܪܪ']\n"
          ]
        }
      ]
    },
    {
      "cell_type": "markdown",
      "source": [
        "## Logos Search"
      ],
      "metadata": {
        "id": "ZnobqGJD5rZS"
      }
    },
    {
      "cell_type": "code",
      "source": [
        "# Example Logos Lexicons links generator:\n",
        "hebrew_word = \"חמר\"  # Replace with the desired Hebrew word\n",
        "links = generate_logos_links(hebrew_word)\n",
        "\n",
        "#To display the link as an actual clickable link in a Jupyter environment, you can use IPython.display.HTML\n",
        "from IPython.display import HTML\n",
        "HTML(links)"
      ],
      "metadata": {
        "colab": {
          "base_uri": "https://localhost:8080/",
          "height": 163
        },
        "id": "vlagyZd91IW_",
        "outputId": "afcdd3d6-9daa-4a3c-f3bb-812f8dbe93e3"
      },
      "execution_count": 213,
      "outputs": [
        {
          "output_type": "execute_result",
          "data": {
            "text/plain": [
              "<IPython.core.display.HTML object>"
            ],
            "text/html": [
              "<p><a href=\"https://app.logos.com/books/L/headwords/%D7%97%D7%9E%D7%A8?headwordLanguage=L&layout=one\" target=\"_blank\">David J.A. Clines DCH: חמר</a></p><p><a href=\"https://app.logos.com/books/LLS%3ADICHEBREW/headwords/%D7%97%D7%9E%D7%A8?headwordLanguage=he&layout=one\" target=\"_blank\">HALOT: חמר</a></p><p><a href=\"https://app.logos.com/books/LLS%3ATDOT/headwords/%D7%97%D7%9E%D7%A8?headwordLanguage=he&layout=one\" target=\"_blank\">TDOT: חמר</a></p><p><a href=\"https://app.logos.com/books/LLS%3A46.30.16/headwords/%D7%97%D7%9E%D7%A8?headwordLanguage=he&layout=one\" target=\"_blank\">BDB: חמר</a></p><p><a href=\"https://app.logos.com/books/LLS%3AARAMAICLEX/headwords/%D7%97%D7%9E%D7%A8?headwordLanguage=arc&layout=one\" target=\"_blank\">Jastrow’s Dictionary of the Targumim, the Talmud Babli and Yerushalmi, and the Midrashic Literature: חמר</a></p><p><a href=\"https://app.logos.com/books/LLS%3A46.30.28/headwords/%D7%97%D7%9E%D7%A8?headwordLanguage=arc&layout=one\" target=\"_blank\">CAL: חמר</a></p>"
            ]
          },
          "metadata": {},
          "execution_count": 213
        }
      ]
    },
    {
      "cell_type": "code",
      "source": [
        "HTML(generate_logos_links(ugaritic2hebrew('𐎋𐎚𐎁')[0]))"
      ],
      "metadata": {
        "colab": {
          "base_uri": "https://localhost:8080/",
          "height": 163
        },
        "id": "uGte4BydtcQ1",
        "outputId": "ee4f7455-1d9f-4d08-b23b-075348f4a12d"
      },
      "execution_count": 211,
      "outputs": [
        {
          "output_type": "execute_result",
          "data": {
            "text/plain": [
              "<IPython.core.display.HTML object>"
            ],
            "text/html": [
              "<p><a href=\"https://app.logos.com/books/L/headwords/%D7%9B%D7%AA%D7%91?headwordLanguage=L&layout=one\" target=\"_blank\">David J.A. Clines DCH: כתב</a></p><p><a href=\"https://app.logos.com/books/LLS%3ADICHEBREW/headwords/%D7%9B%D7%AA%D7%91?headwordLanguage=he&layout=one\" target=\"_blank\">HALOT: כתב</a></p><p><a href=\"https://app.logos.com/books/LLS%3ATDOT/headwords/%D7%9B%D7%AA%D7%91?headwordLanguage=he&layout=one\" target=\"_blank\">TDOT: כתב</a></p><p><a href=\"https://app.logos.com/books/LLS%3A46.30.16/headwords/%D7%9B%D7%AA%D7%91?headwordLanguage=he&layout=one\" target=\"_blank\">BDB: כתב</a></p><p><a href=\"https://app.logos.com/books/LLS%3AARAMAICLEX/headwords/%D7%9B%D7%AA%D7%91?headwordLanguage=arc&layout=one\" target=\"_blank\">Jastrow’s Dictionary of the Targumim, the Talmud Babli and Yerushalmi, and the Midrashic Literature: כתב</a></p><p><a href=\"https://app.logos.com/books/LLS%3A46.30.28/headwords/%D7%9B%D7%AA%D7%91?headwordLanguage=arc&layout=one\" target=\"_blank\">CAL: כתב</a></p>"
            ]
          },
          "metadata": {},
          "execution_count": 211
        }
      ]
    },
    {
      "cell_type": "markdown",
      "source": [
        "## CAL Search"
      ],
      "metadata": {
        "id": "sn851gpL5t9g"
      }
    },
    {
      "cell_type": "code",
      "source": [
        "# Example usage\n",
        "display_cal(chain(ugaritic2cal, unicode2cal)(\"𐎅𐎄\")[0])"
      ],
      "metadata": {
        "colab": {
          "base_uri": "https://localhost:8080/",
          "height": 621
        },
        "id": "zWdj_5DF0msh",
        "outputId": "6d5f64af-1449-4871-9738-42398b701e29"
      },
      "execution_count": 248,
      "outputs": [
        {
          "output_type": "display_data",
          "data": {
            "text/plain": [
              "<IPython.lib.display.IFrame at 0x7b80f8311c10>"
            ],
            "text/html": [
              "\n",
              "        <iframe\n",
              "            width=\"800\"\n",
              "            height=\"600\"\n",
              "            src=\"https://cal.huc.edu/browseSKEYheaders.php?tools=on&first3=hd\"\n",
              "            frameborder=\"0\"\n",
              "            allowfullscreen\n",
              "            \n",
              "        ></iframe>\n",
              "        "
            ]
          },
          "metadata": {}
        }
      ]
    },
    {
      "cell_type": "markdown",
      "source": [
        "## Wiktionary Search"
      ],
      "metadata": {
        "id": "48S9jRpY5wjr"
      }
    },
    {
      "cell_type": "code",
      "source": [
        "search_wiktionary(ugaritic2hebrew('𐎅𐎄')[0])"
      ],
      "metadata": {
        "colab": {
          "base_uri": "https://localhost:8080/",
          "height": 621
        },
        "id": "IeZ-9S7_4MkX",
        "outputId": "5e0ce500-70c2-45e8-ea65-1e4fb222f8c0"
      },
      "execution_count": 233,
      "outputs": [
        {
          "output_type": "display_data",
          "data": {
            "text/plain": [
              "<IPython.lib.display.IFrame at 0x7b80f984a750>"
            ],
            "text/html": [
              "\n",
              "        <iframe\n",
              "            width=\"800\"\n",
              "            height=\"600\"\n",
              "            src=\"https://en.wiktionary.org/wiki/הד\"\n",
              "            frameborder=\"0\"\n",
              "            allowfullscreen\n",
              "            \n",
              "        ></iframe>\n",
              "        "
            ]
          },
          "metadata": {}
        }
      ]
    },
    {
      "cell_type": "code",
      "source": [],
      "metadata": {
        "id": "cHIhNjHg6l5F"
      },
      "execution_count": null,
      "outputs": []
    }
  ]
}